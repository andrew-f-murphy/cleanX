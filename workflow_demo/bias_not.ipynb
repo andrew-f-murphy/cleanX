{
 "cells": [
  {
   "cell_type": "markdown",
   "id": "533c994a",
   "metadata": {},
   "source": [
    "# Don't make a racist machine!: notes on bias and cleanX"
   ]
  },
  {
   "cell_type": "markdown",
   "id": "b7c79ad2",
   "metadata": {},
   "source": [
    "cleanX is a code library meant for data cleaning of certain radiological images in preparation for algorithm creation. Some features it has may be particularly useful are the ability to seperate data by sensitive category, and check resolution...Let's see an example. I'll make an example out of an augmented dataset which will include race and gender:"
   ]
  },
  {
   "cell_type": "code",
   "execution_count": 1,
   "id": "057ccf21",
   "metadata": {},
   "outputs": [
    {
     "name": "stderr",
     "output_type": "stream",
     "text": [
      "WARNING:root:Don't know how to find Tesseract library version\n"
     ]
    }
   ],
   "source": [
    "# libraries\n",
    "import cv2\n",
    "import pandas as pd\n",
    "import numpy as np\n",
    "import matplotlib.pyplot as plt\n",
    "import glob\n",
    "import os \n",
    "\n",
    "import shutil\n",
    "import PIL\n",
    "from PIL import Image, ImageOps\n",
    "from cleanX import (\n",
    "    dataset_processing as csvp,\n",
    "    # dicom_processing as dicomp,\n",
    "    image_work as iwork,\n",
    ")"
   ]
  },
  {
   "cell_type": "code",
   "execution_count": 2,
   "id": "7d920e3f",
   "metadata": {},
   "outputs": [
    {
     "data": {
      "text/html": [
       "<div>\n",
       "<style scoped>\n",
       "    .dataframe tbody tr th:only-of-type {\n",
       "        vertical-align: middle;\n",
       "    }\n",
       "\n",
       "    .dataframe tbody tr th {\n",
       "        vertical-align: top;\n",
       "    }\n",
       "\n",
       "    .dataframe thead th {\n",
       "        text-align: right;\n",
       "    }\n",
       "</style>\n",
       "<table border=\"1\" class=\"dataframe\">\n",
       "  <thead>\n",
       "    <tr style=\"text-align: right;\">\n",
       "      <th></th>\n",
       "      <th>Unnamed: 0</th>\n",
       "      <th>X_ray_image_name</th>\n",
       "      <th>Label</th>\n",
       "      <th>Dataset_type</th>\n",
       "      <th>Label_2_Virus_category</th>\n",
       "      <th>Label_1_Virus_category</th>\n",
       "      <th>gender</th>\n",
       "      <th>race</th>\n",
       "    </tr>\n",
       "  </thead>\n",
       "  <tbody>\n",
       "    <tr>\n",
       "      <th>0</th>\n",
       "      <td>0</td>\n",
       "      <td>IM-0128-0001.jpeg</td>\n",
       "      <td>Normal</td>\n",
       "      <td>TRAIN</td>\n",
       "      <td>NaN</td>\n",
       "      <td>NaN</td>\n",
       "      <td>Male</td>\n",
       "      <td>white martian</td>\n",
       "    </tr>\n",
       "    <tr>\n",
       "      <th>1</th>\n",
       "      <td>1</td>\n",
       "      <td>IM-0127-0001.jpeg</td>\n",
       "      <td>Normal</td>\n",
       "      <td>TRAIN</td>\n",
       "      <td>NaN</td>\n",
       "      <td>NaN</td>\n",
       "      <td>Female</td>\n",
       "      <td>black martian</td>\n",
       "    </tr>\n",
       "    <tr>\n",
       "      <th>2</th>\n",
       "      <td>2</td>\n",
       "      <td>IM-0125-0001.jpeg</td>\n",
       "      <td>Normal</td>\n",
       "      <td>TRAIN</td>\n",
       "      <td>NaN</td>\n",
       "      <td>NaN</td>\n",
       "      <td>Female</td>\n",
       "      <td>white martian</td>\n",
       "    </tr>\n",
       "    <tr>\n",
       "      <th>3</th>\n",
       "      <td>3</td>\n",
       "      <td>IM-0122-0001.jpeg</td>\n",
       "      <td>Normal</td>\n",
       "      <td>TRAIN</td>\n",
       "      <td>NaN</td>\n",
       "      <td>NaN</td>\n",
       "      <td>Male</td>\n",
       "      <td>black martian</td>\n",
       "    </tr>\n",
       "    <tr>\n",
       "      <th>4</th>\n",
       "      <td>4</td>\n",
       "      <td>IM-0119-0001.jpeg</td>\n",
       "      <td>Normal</td>\n",
       "      <td>TRAIN</td>\n",
       "      <td>NaN</td>\n",
       "      <td>NaN</td>\n",
       "      <td>Female</td>\n",
       "      <td>white martian</td>\n",
       "    </tr>\n",
       "    <tr>\n",
       "      <th>...</th>\n",
       "      <td>...</td>\n",
       "      <td>...</td>\n",
       "      <td>...</td>\n",
       "      <td>...</td>\n",
       "      <td>...</td>\n",
       "      <td>...</td>\n",
       "      <td>...</td>\n",
       "      <td>...</td>\n",
       "    </tr>\n",
       "    <tr>\n",
       "      <th>5905</th>\n",
       "      <td>5905</td>\n",
       "      <td>person1637_virus_2834.jpeg</td>\n",
       "      <td>Pnemonia</td>\n",
       "      <td>TEST</td>\n",
       "      <td>NaN</td>\n",
       "      <td>Virus</td>\n",
       "      <td>Male</td>\n",
       "      <td>black martian</td>\n",
       "    </tr>\n",
       "    <tr>\n",
       "      <th>5906</th>\n",
       "      <td>5906</td>\n",
       "      <td>person1635_virus_2831.jpeg</td>\n",
       "      <td>Pnemonia</td>\n",
       "      <td>TEST</td>\n",
       "      <td>NaN</td>\n",
       "      <td>Virus</td>\n",
       "      <td>Female</td>\n",
       "      <td>white martian</td>\n",
       "    </tr>\n",
       "    <tr>\n",
       "      <th>5907</th>\n",
       "      <td>5907</td>\n",
       "      <td>person1634_virus_2830.jpeg</td>\n",
       "      <td>Pnemonia</td>\n",
       "      <td>TEST</td>\n",
       "      <td>NaN</td>\n",
       "      <td>Virus</td>\n",
       "      <td>Female</td>\n",
       "      <td>black martian</td>\n",
       "    </tr>\n",
       "    <tr>\n",
       "      <th>5908</th>\n",
       "      <td>5908</td>\n",
       "      <td>person1633_virus_2829.jpeg</td>\n",
       "      <td>Pnemonia</td>\n",
       "      <td>TEST</td>\n",
       "      <td>NaN</td>\n",
       "      <td>Virus</td>\n",
       "      <td>Male</td>\n",
       "      <td>white martian</td>\n",
       "    </tr>\n",
       "    <tr>\n",
       "      <th>5909</th>\n",
       "      <td>5909</td>\n",
       "      <td>person1632_virus_2827.jpeg</td>\n",
       "      <td>Pnemonia</td>\n",
       "      <td>TEST</td>\n",
       "      <td>NaN</td>\n",
       "      <td>Virus</td>\n",
       "      <td>Female</td>\n",
       "      <td>black martian</td>\n",
       "    </tr>\n",
       "  </tbody>\n",
       "</table>\n",
       "<p>5910 rows × 8 columns</p>\n",
       "</div>"
      ],
      "text/plain": [
       "      Unnamed: 0            X_ray_image_name     Label Dataset_type  \\\n",
       "0              0           IM-0128-0001.jpeg    Normal        TRAIN   \n",
       "1              1           IM-0127-0001.jpeg    Normal        TRAIN   \n",
       "2              2           IM-0125-0001.jpeg    Normal        TRAIN   \n",
       "3              3           IM-0122-0001.jpeg    Normal        TRAIN   \n",
       "4              4           IM-0119-0001.jpeg    Normal        TRAIN   \n",
       "...          ...                         ...       ...          ...   \n",
       "5905        5905  person1637_virus_2834.jpeg  Pnemonia         TEST   \n",
       "5906        5906  person1635_virus_2831.jpeg  Pnemonia         TEST   \n",
       "5907        5907  person1634_virus_2830.jpeg  Pnemonia         TEST   \n",
       "5908        5908  person1633_virus_2829.jpeg  Pnemonia         TEST   \n",
       "5909        5909  person1632_virus_2827.jpeg  Pnemonia         TEST   \n",
       "\n",
       "     Label_2_Virus_category Label_1_Virus_category  gender           race  \n",
       "0                       NaN                    NaN    Male  white martian  \n",
       "1                       NaN                    NaN  Female  black martian  \n",
       "2                       NaN                    NaN  Female  white martian  \n",
       "3                       NaN                    NaN    Male  black martian  \n",
       "4                       NaN                    NaN  Female  white martian  \n",
       "...                     ...                    ...     ...            ...  \n",
       "5905                    NaN                  Virus    Male  black martian  \n",
       "5906                    NaN                  Virus  Female  white martian  \n",
       "5907                    NaN                  Virus  Female  black martian  \n",
       "5908                    NaN                  Virus    Male  white martian  \n",
       "5909                    NaN                  Virus  Female  black martian  \n",
       "\n",
       "[5910 rows x 8 columns]"
      ]
     },
     "execution_count": 2,
     "metadata": {},
     "output_type": "execute_result"
    }
   ],
   "source": [
    "\n",
    "example_path = \"martians_2051.csv\"\n",
    "example = pd.read_csv(example_path)\n",
    "example"
   ]
  },
  {
   "cell_type": "markdown",
   "id": "568ecc0a",
   "metadata": {},
   "source": [
    "## This is not a real world example...let's imagine it's literally not from this world, but rather a future on Mars"
   ]
  },
  {
   "cell_type": "code",
   "execution_count": 3,
   "id": "01a6b5ae",
   "metadata": {},
   "outputs": [
    {
     "data": {
      "text/html": [
       "<div>\n",
       "<style scoped>\n",
       "    .dataframe tbody tr th:only-of-type {\n",
       "        vertical-align: middle;\n",
       "    }\n",
       "\n",
       "    .dataframe tbody tr th {\n",
       "        vertical-align: top;\n",
       "    }\n",
       "\n",
       "    .dataframe thead th {\n",
       "        text-align: right;\n",
       "    }\n",
       "</style>\n",
       "<table border=\"1\" class=\"dataframe\">\n",
       "  <thead>\n",
       "    <tr style=\"text-align: right;\">\n",
       "      <th></th>\n",
       "      <th></th>\n",
       "      <th></th>\n",
       "      <th>sums</th>\n",
       "    </tr>\n",
       "    <tr>\n",
       "      <th>Label</th>\n",
       "      <th>gender</th>\n",
       "      <th>race</th>\n",
       "      <th></th>\n",
       "    </tr>\n",
       "  </thead>\n",
       "  <tbody>\n",
       "    <tr>\n",
       "      <th rowspan=\"7\" valign=\"top\">Normal</th>\n",
       "      <th rowspan=\"2\" valign=\"top\">Female</th>\n",
       "      <th>black martian</th>\n",
       "      <td>526</td>\n",
       "    </tr>\n",
       "    <tr>\n",
       "      <th>white martian</th>\n",
       "      <td>525</td>\n",
       "    </tr>\n",
       "    <tr>\n",
       "      <th rowspan=\"5\" valign=\"top\">Male</th>\n",
       "      <th>asian martian</th>\n",
       "      <td>1</td>\n",
       "    </tr>\n",
       "    <tr>\n",
       "      <th>black martian</th>\n",
       "      <td>260</td>\n",
       "    </tr>\n",
       "    <tr>\n",
       "      <th>plutonian martian</th>\n",
       "      <td>1</td>\n",
       "    </tr>\n",
       "    <tr>\n",
       "      <th>purple martian</th>\n",
       "      <td>1</td>\n",
       "    </tr>\n",
       "    <tr>\n",
       "      <th>white martian</th>\n",
       "      <td>262</td>\n",
       "    </tr>\n",
       "    <tr>\n",
       "      <th rowspan=\"5\" valign=\"top\">Pnemonia</th>\n",
       "      <th rowspan=\"3\" valign=\"top\">Female</th>\n",
       "      <th>black martian</th>\n",
       "      <td>1444</td>\n",
       "    </tr>\n",
       "    <tr>\n",
       "      <th>venusian martian</th>\n",
       "      <td>1</td>\n",
       "    </tr>\n",
       "    <tr>\n",
       "      <th>white martian</th>\n",
       "      <td>1445</td>\n",
       "    </tr>\n",
       "    <tr>\n",
       "      <th rowspan=\"2\" valign=\"top\">Male</th>\n",
       "      <th>black martian</th>\n",
       "      <td>723</td>\n",
       "    </tr>\n",
       "    <tr>\n",
       "      <th>white martian</th>\n",
       "      <td>721</td>\n",
       "    </tr>\n",
       "  </tbody>\n",
       "</table>\n",
       "</div>"
      ],
      "text/plain": [
       "                                   sums\n",
       "Label    gender race                   \n",
       "Normal   Female black martian       526\n",
       "                white martian       525\n",
       "         Male   asian martian         1\n",
       "                black martian       260\n",
       "                plutonian martian     1\n",
       "                purple martian        1\n",
       "                white martian       262\n",
       "Pnemonia Female black martian      1444\n",
       "                venusian martian      1\n",
       "                white martian      1445\n",
       "         Male   black martian       723\n",
       "                white martian       721"
      ]
     },
     "execution_count": 3,
     "metadata": {},
     "output_type": "execute_result"
    }
   ],
   "source": [
    "bias_checker = csvp.see_part_potential_bias(example,\"Label\", [\"gender\",\"race\"])\n",
    "bias_checker"
   ]
  },
  {
   "cell_type": "markdown",
   "id": "7f75529c",
   "metadata": {},
   "source": [
    "Where are all the Native American martians in my dataset? No Latino martians and  a single Asian martian? Does not seem like the real world...Seems like we may be set up for some wacky bias. In the real world depending upon our case, we might need to get more data. But let's pretend we only want to look at black and white martians now, for an academic exercise."
   ]
  },
  {
   "cell_type": "markdown",
   "id": "fb1d5178",
   "metadata": {},
   "source": [
    "A note on the images and path:\n",
    "We will use the CoronaHack -Chest X-Ray-Dataset from Kaggle (https://www.kaggle.com/praveengovi/coronahack-chest-xraydataset). The dataset was assembled by Praveen Govindaraj. This dataset has thousands of images ( 5,309 images to be exact)...too many to look through by hand without wasting a lot of time\n",
    "\n",
    "Unfortunately, keeping 40 gigabytes of image data on Github is not possible or a good idea. If you want to get these images onto your computer, you basically need tosign into Kaggle, and download. There is no way to download without credentials at present.\n"
   ]
  },
  {
   "cell_type": "code",
   "execution_count": 4,
   "id": "009dd9ea",
   "metadata": {},
   "outputs": [],
   "source": [
    "# here I pull the images off my drive \n",
    "# you will need to substitute your own download adress\n",
    "# to be updated with download instructions cell\n",
    "path ='D:/my_academia/ncs/Coronahack-Chest-XRay-Dataset/Coronahack-Chest-XRay-Dataset/train/'    "
   ]
  },
  {
   "cell_type": "code",
   "execution_count": 5,
   "id": "895fe825",
   "metadata": {},
   "outputs": [],
   "source": [
    "# black martians had a slightly higher number of images, but what about quality? \n",
    "# a technnical note this will only work if you have all the images listed\n",
    "quality_list =[]\n",
    "# path = \"Coronahack-Chest-XRay-Dataset/Coronahack-Chest-XRay-Dataset/train/\"\n",
    "\n",
    "for value in example.X_ray_image_name:\n",
    "    try:\n",
    "        image = cv2.imread(os.path.join(path,value))\n",
    "        string = os.path.join(path,value)\n",
    "        quality_score = iwork.image_quality_by_size(string)\n",
    "    except: \n",
    "        quality_score = 0\n",
    "    quality_list.append(quality_score)\n",
    "    \n",
    "example['q_score'] = quality_list    "
   ]
  },
  {
   "cell_type": "code",
   "execution_count": 6,
   "id": "b9f55e2e",
   "metadata": {},
   "outputs": [
    {
     "data": {
      "text/plain": [
       "205355.30172705723"
      ]
     },
     "execution_count": 6,
     "metadata": {},
     "output_type": "execute_result"
    }
   ],
   "source": [
    "# now on mars and black and white people getting the same quality\n",
    "# of imaging if we judge by resolution? let's look by sensitive category\n",
    "black_q_total =example.q_score[example.race == 'black martian'].sum()\n",
    "black_count_total =example.q_score[example.race == 'black martian'].count()\n",
    "avg_q_black= black_q_total/black_count_total\n",
    "avg_q_black"
   ]
  },
  {
   "cell_type": "code",
   "execution_count": 7,
   "id": "e0591931",
   "metadata": {},
   "outputs": [
    {
     "data": {
      "text/plain": [
       "201324.04097527938"
      ]
     },
     "execution_count": 7,
     "metadata": {},
     "output_type": "execute_result"
    }
   ],
   "source": [
    "white_q_total =example.q_score[example.race == 'white martian'].sum()\n",
    "white_count_total =example.q_score[example.race == 'white martian'].count()\n",
    "avg_q_white= white_q_total/white_count_total\n",
    "avg_q_white"
   ]
  },
  {
   "cell_type": "code",
   "execution_count": 8,
   "id": "75debb25",
   "metadata": {},
   "outputs": [
    {
     "data": {
      "text/plain": [
       "1.020023742481271"
      ]
     },
     "execution_count": 8,
     "metadata": {},
     "output_type": "execute_result"
    }
   ],
   "source": [
    "# SO let's look at the ratio...even though we can see the numbers are close\n",
    "avg_q_black/avg_q_white"
   ]
  },
  {
   "cell_type": "markdown",
   "id": "4c9da0cc",
   "metadata": {},
   "source": [
    "## Here is where we seperate the pro data analysts from the children:\n",
    "An average is NOT all you need. Take a peak at the distributions, to make sure they are not hiding anyting (like one single super high quality black martian image and almost all of low quality)"
   ]
  },
  {
   "cell_type": "code",
   "execution_count": 9,
   "id": "d9417cea",
   "metadata": {},
   "outputs": [],
   "source": [
    "black_martians = example[example.race == 'black martian']\n",
    "white_martians = example[example.race == 'white martian']\n",
    "#black_martians.q_score.hist(bins = 20)"
   ]
  },
  {
   "cell_type": "code",
   "execution_count": 10,
   "id": "45a5176e",
   "metadata": {},
   "outputs": [],
   "source": [
    "#white_martians.q_score.hist(bins =20)"
   ]
  },
  {
   "cell_type": "code",
   "execution_count": 11,
   "id": "72fb5c78",
   "metadata": {},
   "outputs": [
    {
     "data": {
      "text/plain": [
       "<matplotlib.legend.Legend at 0x1480fa4aac0>"
      ]
     },
     "execution_count": 11,
     "metadata": {},
     "output_type": "execute_result"
    },
    {
     "data": {
      "image/png": "[encoded data removed]",
      "text/plain": [
       "<Figure size 432x288 with 1 Axes>"
      ]
     },
     "metadata": {
      "needs_background": "light"
     },
     "output_type": "display_data"
    }
   ],
   "source": [
    "plt.hist(black_martians.q_score, label='blacks', alpha=.8, edgecolor='black', bins = 40)\n",
    "  \n",
    "# plotting second histogram\n",
    "plt.hist(white_martians.q_score, label='whites', alpha=0.7, edgecolor='yellow', bins = 40)\n",
    "plt.legend()"
   ]
  },
  {
   "cell_type": "markdown",
   "id": "ab6d4a2b",
   "metadata": {},
   "source": [
    "## OK, so our dataset seems fine for black and white martians, but lacks diversity. \n",
    "Get more data, especially\n",
    "on plutonian and Latino martians..."
   ]
  },
  {
   "cell_type": "markdown",
   "id": "22e9d734",
   "metadata": {},
   "source": [
    "# Meanwhile back on planet earth: \n",
    "Usually the quality if images is going with socioeconomic status, which in multi-cultural socieities may correlate with ethnicty and/or race...watch out. In all seriousness you can think of AI as having an alien brain that sees very differently from humans. This alien brain can pick up all kinds of correlations without causality. Correlations are not random, but may reflect social biases and problems. For example, women with less access to high quality healthcare and lower socioeconomic status may recieve lower quality screening mammography (judging by parameters like compression) read by less qualified physicians. \n",
    "We must be very careful not to encode bias against people with less access to high quality radiology into out AI work. "
   ]
  },
  {
   "cell_type": "markdown",
   "id": "6ab53416",
   "metadata": {},
   "source": [
    "You can learn more about cleanX's other functions in the other notebooks [here](https://github.com/drcandacemakedamoore/cleanX/blob/main/workflow_demo/no_classes_workflow_example.ipynb) and [here](https://github.com/drcandacemakedamoore/cleanX/blob/main/workflow_demo/classes_workflow.ipynb)."
   ]
  },
  {
   "cell_type": "code",
   "execution_count": null,
   "id": "e4b52586",
   "metadata": {},
   "outputs": [],
   "source": []
  }
 ],
 "metadata": {
  "kernelspec": {
   "display_name": "Python 3 (ipykernel)",
   "language": "python",
   "name": "python3"
  },
  "language_info": {
   "codemirror_mode": {
    "name": "ipython",
    "version": 3
   },
   "file_extension": ".py",
   "mimetype": "text/x-python",
   "name": "python",
   "nbconvert_exporter": "python",
   "pygments_lexer": "ipython3",
   "version": "3.9.0"
  },
  "toc": {
   "base_numbering": 1,
   "nav_menu": {},
   "number_sections": true,
   "sideBar": true,
   "skip_h1_title": false,
   "title_cell": "Table of Contents",
   "title_sidebar": "Contents",
   "toc_cell": false,
   "toc_position": {},
   "toc_section_display": true,
   "toc_window_display": false
  }
 },
 "nbformat": 4,
 "nbformat_minor": 5
}
